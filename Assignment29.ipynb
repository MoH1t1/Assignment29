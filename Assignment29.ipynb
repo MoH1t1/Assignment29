{
  "metadata": {
    "kernelspec": {
      "name": "python",
      "display_name": "Python (Pyodide)",
      "language": "python"
    },
    "language_info": {
      "codemirror_mode": {
        "name": "python",
        "version": 3
      },
      "file_extension": ".py",
      "mimetype": "text/x-python",
      "name": "python",
      "nbconvert_exporter": "python",
      "pygments_lexer": "ipython3",
      "version": "3.8"
    }
  },
  "nbformat_minor": 4,
  "nbformat": 4,
  "cells": [
    {
      "cell_type": "code",
      "source": "# Q1. What is the Probability density function?\n\nThe PDF describes the likelihood of a continuous random variable taking a specific value. It defines the shape of the distribution.",
      "metadata": {
        "trusted": true
      },
      "outputs": [],
      "execution_count": null
    },
    {
      "cell_type": "code",
      "source": "# Q2. What are the types of Probability distribution?\n\nTwo types:\nDiscrete: Binomial, Poisson.\nContinuous: Normal, Exponential.",
      "metadata": {
        "trusted": true
      },
      "outputs": [],
      "execution_count": null
    },
    {
      "cell_type": "code",
      "source": "# Q3. Write a Python function to calculate the probability density function of a normal distribution with given mean and standard deviation at a given point.\n\nfrom math import exp, sqrt, pi\n\ndef normal_pdf(x, mean, std_dev):\n    return (1 / (std_dev * sqrt(2 * pi))) * exp(-((x - mean) ** 2) / (2 * std_dev ** 2))\n\nmean = 0\nstd_dev = 1\nx = 1\nprint(normal_pdf(x, mean, std_dev))\n",
      "metadata": {
        "trusted": true
      },
      "outputs": [
        {
          "name": "stdout",
          "text": "0.24197072451914337\n",
          "output_type": "stream"
        }
      ],
      "execution_count": 6
    },
    {
      "cell_type": "code",
      "source": "# Q4. What are the properties of Binomial distribution? Give two examples of events where binomial distribution can be applied.\n\nProperties: \nFixed number of trials.\nEach trial is independent.\nProbability of success is constant.\nOutcomes are binary (success/failure).\n\nExamples:\nTossing a coin 10 times.\nNumber of defective items in a batch.",
      "metadata": {
        "trusted": true
      },
      "outputs": [],
      "execution_count": null
    },
    {
      "cell_type": "code",
      "source": "# Q5. Generate a random sample of size 1000 from a binomial distribution with probability of success 0.4 and plot a histogram of the results using matplotlib.\n\nimport numpy as np\nimport matplotlib.pyplot as plt\n\ndata = np.random.binomial(n=10, p=0.4, size=1000)\nplt.hist(data, bins=10, color='skyblue', edgecolor='black')\nplt.title('Histogram of Binomial Distribution')\nplt.show()\n",
      "metadata": {
        "trusted": true
      },
      "outputs": [
        {
          "output_type": "display_data",
          "data": {
            "text/plain": "<Figure size 640x480 with 1 Axes>",
            "image/png": "[encoded data removed]"
          },
          "metadata": {}
        }
      ],
      "execution_count": 3
    },
    {
      "cell_type": "code",
      "source": "# Q6. Write a Python function to calculate the cumulative distribution function of a Poisson distribution with given mean at a given point.\n\nfrom scipy.stats import poisson\n\ndef poisson_cdf(x, mean):\n    return poisson.cdf(x, mean)\n\nmean = 3\nx = 5\nprint(poisson_cdf(x, mean))\n",
      "metadata": {
        "trusted": true
      },
      "outputs": [
        {
          "name": "stdout",
          "text": "0.9160820579686966\n",
          "output_type": "stream"
        }
      ],
      "execution_count": 7
    },
    {
      "cell_type": "code",
      "source": "# Q7. How Binomial distribution different from Poisson distribution?\n\nBinomial: Fixed number of trials, probability of success constant.\nPoisson: Number of events in a fixed interval, mean is constant.",
      "metadata": {
        "trusted": true
      },
      "outputs": [],
      "execution_count": null
    },
    {
      "cell_type": "code",
      "source": "# Q8. Generate a random sample of size 1000 from a Poisson distribution with mean 5 and calculate the sample mean and variance.\n\nimport numpy as np\n\ndata = np.random.poisson(lam=5, size=1000)\nsample_mean = np.mean(data)\nsample_variance = np.var(data)\n\nprint(\"Mean:\", sample_mean, \"Variance:\", sample_variance)",
      "metadata": {
        "trusted": true
      },
      "outputs": [
        {
          "name": "stdout",
          "text": "Mean: 5.074 Variance: 4.606524\n",
          "output_type": "stream"
        }
      ],
      "execution_count": 8
    },
    {
      "cell_type": "code",
      "source": "# Q9. How mean and variance are related in Binomial distribution and Poisson distribution?\n\nBinomial: Mean =  n⋅p, Variance =  n⋅p⋅(1−p).\nPoisson: Mean = Variance = 𝜆",
      "metadata": {
        "trusted": true
      },
      "outputs": [],
      "execution_count": null
    },
    {
      "cell_type": "code",
      "source": "# Q10. In normal distribution with respect to mean position, where does the least frequent data appear?\n\nThe least frequent data appears in the tails, farthest from the mean.",
      "metadata": {
        "trusted": true
      },
      "outputs": [],
      "execution_count": null
    }
  ]
}